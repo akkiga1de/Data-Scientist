{
 "cells": [
  {
   "cell_type": "raw",
   "id": "b24706e3-70a1-4e86-9d27-ce69eda3a682",
   "metadata": {},
   "source": [
    "1.CONVERTING INTEGER TO STRING"
   ]
  },
  {
   "cell_type": "code",
   "execution_count": 9,
   "id": "9d0770cb-8e08-4f07-bb15-395ad060bbde",
   "metadata": {},
   "outputs": [],
   "source": [
    "a=8"
   ]
  },
  {
   "cell_type": "code",
   "execution_count": 10,
   "id": "22b15af1-c62e-4fbb-b581-2c89fa65c8f0",
   "metadata": {},
   "outputs": [],
   "source": [
    "result = str(a)"
   ]
  },
  {
   "cell_type": "code",
   "execution_count": 11,
   "id": "be188143-5911-4b9f-9851-36cfad03e13e",
   "metadata": {},
   "outputs": [
    {
     "data": {
      "text/plain": [
       "'8'"
      ]
     },
     "execution_count": 11,
     "metadata": {},
     "output_type": "execute_result"
    }
   ],
   "source": [
    "result"
   ]
  },
  {
   "cell_type": "raw",
   "id": "2b316b01-3e0b-4115-a16e-f708b8e9c445",
   "metadata": {},
   "source": [
    "2.What is the difference between == and = in Python?"
   ]
  },
  {
   "cell_type": "code",
   "execution_count": 12,
   "id": "871f061c-3c0c-43a7-ba59-79e5b542ad51",
   "metadata": {},
   "outputs": [],
   "source": [
    "a=8 # = it is used for assigning value to variable"
   ]
  },
  {
   "cell_type": "code",
   "execution_count": 13,
   "id": "b8a6927a-e750-4713-ad3f-d225c979ca97",
   "metadata": {},
   "outputs": [
    {
     "data": {
      "text/plain": [
       "True"
      ]
     },
     "execution_count": 13,
     "metadata": {},
     "output_type": "execute_result"
    }
   ],
   "source": [
    "10==10 # it is used for comparison purpose"
   ]
  },
  {
   "cell_type": "raw",
   "id": "e043a667-4041-4628-bf93-e73cb473b782",
   "metadata": {},
   "source": [
    "3.How does the modulus operator (%) work in Python?"
   ]
  },
  {
   "cell_type": "code",
   "execution_count": 14,
   "id": "1c18f4e2-94a6-4bc0-845d-5feed5b86c23",
   "metadata": {},
   "outputs": [
    {
     "data": {
      "text/plain": [
       "1"
      ]
     },
     "execution_count": 14,
     "metadata": {},
     "output_type": "execute_result"
    }
   ],
   "source": [
    "7%2 # it is used for finding out odd or even"
   ]
  },
  {
   "cell_type": "code",
   "execution_count": 15,
   "id": "a4c10c4d-ba50-4307-9bd2-f5cf0d475fe2",
   "metadata": {},
   "outputs": [
    {
     "data": {
      "text/plain": [
       "0"
      ]
     },
     "execution_count": 15,
     "metadata": {},
     "output_type": "execute_result"
    }
   ],
   "source": [
    "4%2"
   ]
  },
  {
   "cell_type": "raw",
   "id": "748dacc3-e73a-4ac8-9c12-97fa9369e1bd",
   "metadata": {},
   "source": [
    "4.What will be the output of 3 * \"Hello\" in Python ?"
   ]
  },
  {
   "cell_type": "code",
   "execution_count": 16,
   "id": "32d0f20d-67e1-4112-9e09-5b6c2e9515ba",
   "metadata": {},
   "outputs": [
    {
     "data": {
      "text/plain": [
       "'HELLO'"
      ]
     },
     "execution_count": 16,
     "metadata": {},
     "output_type": "execute_result"
    }
   ],
   "source": [
    "'HELLO'"
   ]
  },
  {
   "cell_type": "code",
   "execution_count": 17,
   "id": "5b911cc5-1908-4921-addb-71f29c8e9237",
   "metadata": {},
   "outputs": [
    {
     "data": {
      "text/plain": [
       "'HELLOHELLOHELLO'"
      ]
     },
     "execution_count": 17,
     "metadata": {},
     "output_type": "execute_result"
    }
   ],
   "source": [
    "3* 'HELLO'"
   ]
  },
  {
   "cell_type": "raw",
   "id": "1b42bf94-d0ab-4297-9e80-dac322606f28",
   "metadata": {},
   "source": [
    "5.What is string concatenation, and how would you do it in Python?"
   ]
  },
  {
   "cell_type": "code",
   "execution_count": 18,
   "id": "cdeb79fa-360e-47f2-b225-7d0c92b0acc4",
   "metadata": {},
   "outputs": [],
   "source": [
    "first_name= 'Akshay'"
   ]
  },
  {
   "cell_type": "code",
   "execution_count": 21,
   "id": "11cf1c71-9f20-44d2-8a93-6a931bdffb29",
   "metadata": {},
   "outputs": [
    {
     "data": {
      "text/plain": [
       "'My name is Akshay'"
      ]
     },
     "execution_count": 21,
     "metadata": {},
     "output_type": "execute_result"
    }
   ],
   "source": [
    "'My name is ' + first_name"
   ]
  },
  {
   "cell_type": "code",
   "execution_count": null,
   "id": "5073c2ca-f7c3-4975-9444-53776c6d71cd",
   "metadata": {},
   "outputs": [],
   "source": []
  },
  {
   "cell_type": "code",
   "execution_count": null,
   "id": "a4823178-80a0-498e-8b8b-ff03aa2dc44f",
   "metadata": {},
   "outputs": [],
   "source": []
  },
  {
   "cell_type": "code",
   "execution_count": null,
   "id": "a857f56c-b58a-404b-91d2-58a9b17d2f89",
   "metadata": {},
   "outputs": [],
   "source": []
  },
  {
   "cell_type": "code",
   "execution_count": null,
   "id": "570d72b3-41f7-47b1-a2f4-5c9bc25d4947",
   "metadata": {},
   "outputs": [],
   "source": []
  }
 ],
 "metadata": {
  "kernelspec": {
   "display_name": "Python 3 (ipykernel)",
   "language": "python",
   "name": "python3"
  },
  "language_info": {
   "codemirror_mode": {
    "name": "ipython",
    "version": 3
   },
   "file_extension": ".py",
   "mimetype": "text/x-python",
   "name": "python",
   "nbconvert_exporter": "python",
   "pygments_lexer": "ipython3",
   "version": "3.12.7"
  }
 },
 "nbformat": 4,
 "nbformat_minor": 5
}
